{
 "cells": [
  {
   "cell_type": "code",
   "execution_count": 1,
   "metadata": {},
   "outputs": [
    {
     "name": "stdout",
     "output_type": "stream",
     "text": [
      "False\n",
      "True\n"
     ]
    }
   ],
   "source": [
    "#1 :\n",
    "def binary_search(item_list,item):\n",
    "\tfirst = 0\n",
    "\tlast = len(item_list)-1\n",
    "\tfound = False\n",
    "\twhile( first<=last and not found):\n",
    "\t\tmid = (first + last)//2\n",
    "\t\tif item_list[mid] == item :\n",
    "\t\t\tfound = True\n",
    "\t\telse:\n",
    "\t\t\tif item < item_list[mid]:\n",
    "\t\t\t\tlast = mid - 1\n",
    "\t\t\telse:\n",
    "\t\t\t\tfirst = mid + 1\t\n",
    "\treturn found\n",
    "\t\n",
    "print(binary_search([1,2,3,5,8], 6))\n",
    "print(binary_search([1,2,3,5,8], 5))\n"
   ]
  },
  {
   "cell_type": "code",
   "execution_count": 3,
   "metadata": {},
   "outputs": [
    {
     "name": "stdout",
     "output_type": "stream",
     "text": [
      "81\n"
     ]
    }
   ],
   "source": [
    "#2 :\n",
    "def power(a,b):\n",
    "\tif b==0:\n",
    "\t\treturn 1\n",
    "\telif a==0:\n",
    "\t\treturn 0\n",
    "\telif b==1:\n",
    "\t\treturn a\n",
    "\telse:\n",
    "\t\treturn a*power(a,b-1)\n",
    "\n",
    "print(power(3,4))"
   ]
  },
  {
   "cell_type": "code",
   "execution_count": 4,
   "metadata": {},
   "outputs": [
    {
     "name": "stdout",
     "output_type": "stream",
     "text": [
      "[13, 22, 29, 37, 46, 49, 52, 56, 71]\n"
     ]
    }
   ],
   "source": [
    "#3 :\n",
    "def bubbleSort(nlist):\n",
    "    for passnum in range(len(nlist)-1,0,-1):\n",
    "        for i in range(passnum):\n",
    "            if nlist[i]>nlist[i+1]:\n",
    "                temp = nlist[i]\n",
    "                nlist[i] = nlist[i+1]\n",
    "                nlist[i+1] = temp\n",
    "\n",
    "nlist = [29,13,22,37,52,49,46,71,56]\n",
    "bubbleSort(nlist)\n",
    "print(nlist)"
   ]
  },
  {
   "cell_type": "code",
   "execution_count": 6,
   "metadata": {},
   "outputs": [
    {
     "name": "stdout",
     "output_type": "stream",
     "text": [
      "Splitting  [29, 13, 22, 37, 52, 49, 46, 71, 56]\n",
      "Splitting  [29, 13, 22, 37]\n",
      "Splitting  [29, 13]\n",
      "Splitting  [29]\n",
      "Merging  [29]\n",
      "Splitting  [13]\n",
      "Merging  [13]\n",
      "Merging  [13, 29]\n",
      "Splitting  [22, 37]\n",
      "Splitting  [22]\n",
      "Merging  [22]\n",
      "Splitting  [37]\n",
      "Merging  [37]\n",
      "Merging  [22, 37]\n",
      "Merging  [13, 22, 29, 37]\n",
      "Splitting  [52, 49, 46, 71, 56]\n",
      "Splitting  [52, 49]\n",
      "Splitting  [52]\n",
      "Merging  [52]\n",
      "Splitting  [49]\n",
      "Merging  [49]\n",
      "Merging  [49, 52]\n",
      "Splitting  [46, 71, 56]\n",
      "Splitting  [46]\n",
      "Merging  [46]\n",
      "Splitting  [71, 56]\n",
      "Splitting  [71]\n",
      "Merging  [71]\n",
      "Splitting  [56]\n",
      "Merging  [56]\n",
      "Merging  [56, 71]\n",
      "Merging  [46, 56, 71]\n",
      "Merging  [46, 49, 52, 56, 71]\n",
      "Merging  [13, 22, 29, 37, 46, 49, 52, 56, 71]\n",
      "[13, 22, 29, 37, 46, 49, 52, 56, 71]\n"
     ]
    }
   ],
   "source": [
    "#4 :\n",
    "def mergeSort(nlist):\n",
    "    print(\"Splitting \",nlist)\n",
    "    if len(nlist)>1:\n",
    "        mid = len(nlist)//2\n",
    "        lefthalf = nlist[:mid]\n",
    "        righthalf = nlist[mid:]\n",
    "\n",
    "        mergeSort(lefthalf)\n",
    "        mergeSort(righthalf)\n",
    "        i=j=k=0       \n",
    "        while i < len(lefthalf) and j < len(righthalf):\n",
    "            if lefthalf[i] < righthalf[j]:\n",
    "                nlist[k]=lefthalf[i]\n",
    "                i=i+1\n",
    "            else:\n",
    "                nlist[k]=righthalf[j]\n",
    "                j=j+1\n",
    "            k=k+1\n",
    "\n",
    "        while i < len(lefthalf):\n",
    "            nlist[k]=lefthalf[i]\n",
    "            i=i+1\n",
    "            k=k+1\n",
    "\n",
    "        while j < len(righthalf):\n",
    "            nlist[k]=righthalf[j]\n",
    "            j=j+1\n",
    "            k=k+1\n",
    "    print(\"Merging \",nlist)\n",
    "\n",
    "nlist = [29,13,22,37,52,49,46,71,56]\n",
    "mergeSort(nlist)\n",
    "print(nlist)"
   ]
  },
  {
   "cell_type": "code",
   "execution_count": 7,
   "metadata": {},
   "outputs": [
    {
     "name": "stdout",
     "output_type": "stream",
     "text": [
      "[13, 22, 29, 37, 46, 49, 52, 56, 71]\n"
     ]
    }
   ],
   "source": [
    "#5 :\n",
    "def quickSort(data_list):\n",
    "   quickSortHlp(data_list,0,len(data_list)-1)\n",
    "\n",
    "def quickSortHlp(data_list,first,last):\n",
    "   if first < last:\n",
    "\n",
    "       splitpoint = partition(data_list,first,last)\n",
    "\n",
    "       quickSortHlp(data_list,first,splitpoint-1)\n",
    "       quickSortHlp(data_list,splitpoint+1,last)\n",
    "\n",
    "\n",
    "def partition(data_list,first,last):\n",
    "   pivotvalue = data_list[first]\n",
    "\n",
    "   leftmark = first+1\n",
    "   rightmark = last\n",
    "\n",
    "   done = False\n",
    "   while not done:\n",
    "\n",
    "       while leftmark <= rightmark and data_list[leftmark] <= pivotvalue:\n",
    "           leftmark = leftmark + 1\n",
    "\n",
    "       while data_list[rightmark] >= pivotvalue and rightmark >= leftmark:\n",
    "           rightmark = rightmark -1\n",
    "\n",
    "       if rightmark < leftmark:\n",
    "           done = True\n",
    "       else:\n",
    "           temp = data_list[leftmark]\n",
    "           data_list[leftmark] = data_list[rightmark]\n",
    "           data_list[rightmark] = temp\n",
    "\n",
    "   temp = data_list[first]\n",
    "   data_list[first] = data_list[rightmark]\n",
    "   data_list[rightmark] = temp\n",
    "\n",
    "\n",
    "   return rightmark\n",
    "\n",
    "data_list = [29,13,22,37,52,49,46,71,56]\n",
    "quickSort(data_list)\n",
    "print(data_list)"
   ]
  },
  {
   "cell_type": "code",
   "execution_count": null,
   "metadata": {},
   "outputs": [],
   "source": []
  }
 ],
 "metadata": {
  "kernelspec": {
   "display_name": "Python 3",
   "language": "python",
   "name": "python3"
  },
  "language_info": {
   "codemirror_mode": {
    "name": "ipython",
    "version": 3
   },
   "file_extension": ".py",
   "mimetype": "text/x-python",
   "name": "python",
   "nbconvert_exporter": "python",
   "pygments_lexer": "ipython3",
   "version": "3.7.0"
  }
 },
 "nbformat": 4,
 "nbformat_minor": 2
}
